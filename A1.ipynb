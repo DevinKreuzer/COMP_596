{
 "cells": [
  {
   "cell_type": "code",
   "execution_count": 73,
   "metadata": {},
   "outputs": [],
   "source": [
    "import numpy as np \n",
    "import pandas as pd"
   ]
  },
  {
   "cell_type": "code",
   "execution_count": null,
   "metadata": {},
   "outputs": [],
   "source": []
  },
  {
   "cell_type": "code",
   "execution_count": 155,
   "metadata": {},
   "outputs": [
    {
     "data": {
      "text/plain": [
       "array([[   0,  386],\n",
       "       [   0,  395],\n",
       "       [   0,  451],\n",
       "       ...,\n",
       "       [4935, 4937],\n",
       "       [4936, 4938],\n",
       "       [4939, 4940]])"
      ]
     },
     "execution_count": 155,
     "metadata": {},
     "output_type": "execute_result"
    }
   ],
   "source": [
    "net = np.loadtxt('networks/powergrid.edgelist.txt', dtype=int)\n",
    "net"
   ]
  },
  {
   "cell_type": "code",
   "execution_count": 156,
   "metadata": {},
   "outputs": [],
   "source": [
    "size = len(set([n for e in net for n in e]))"
   ]
  },
  {
   "cell_type": "code",
   "execution_count": 157,
   "metadata": {},
   "outputs": [],
   "source": [
    "from scipy.sparse import csc_matrix\n",
    "from scipy.sparse import lil_matrix\n",
    "import scipy.sparse\n",
    "\n",
    "A = lil_matrix((size, size), dtype=np.int32)"
   ]
  },
  {
   "cell_type": "code",
   "execution_count": 158,
   "metadata": {},
   "outputs": [],
   "source": [
    "for (edge,i) in zip(net, range(len(net))):\n",
    "    A[edge[0], edge[1]] = 1"
   ]
  },
  {
   "cell_type": "code",
   "execution_count": null,
   "metadata": {},
   "outputs": [],
   "source": []
  },
  {
   "cell_type": "code",
   "execution_count": 159,
   "metadata": {},
   "outputs": [
    {
     "name": "stdout",
     "output_type": "stream",
     "text": [
      "sym\n",
      "0.0\n",
      "1.0\n",
      "2.0\n",
      "3.0\n",
      "4.0\n"
     ]
    }
   ],
   "source": [
    "#remove self-loops\n",
    "for i in range(len(A.toarray())):\n",
    "    A[i,i]=0\n",
    "print('sym')\n",
    "#force symmetry\n",
    "for i in range(size):\n",
    "    if i %1000 == 0:\n",
    "        print(i/1000)\n",
    "    for j in range(size):\n",
    "        if A[i,j]==1:\n",
    "            A[j,i]=1"
   ]
  },
  {
   "cell_type": "code",
   "execution_count": 160,
   "metadata": {},
   "outputs": [
    {
     "data": {
      "text/plain": [
       "True"
      ]
     },
     "execution_count": 160,
     "metadata": {},
     "output_type": "execute_result"
    }
   ],
   "source": [
    "(A.toarray().transpose() == A.toarray()).all()"
   ]
  },
  {
   "cell_type": "code",
   "execution_count": 161,
   "metadata": {},
   "outputs": [],
   "source": [
    "A = csc_matrix(A)"
   ]
  },
  {
   "cell_type": "code",
   "execution_count": 162,
   "metadata": {},
   "outputs": [],
   "source": [
    "degrees=[]\n",
    "\n",
    "for row,i in zip(A.toarray(), range(len(A.toarray()))):\n",
    "    degrees.append(len(row[row==1]))"
   ]
  },
  {
   "cell_type": "code",
   "execution_count": 163,
   "metadata": {},
   "outputs": [
    {
     "data": {
      "image/png": "[encoded data removed]",
      "text/plain": [
       "<Figure size 432x288 with 1 Axes>"
      ]
     },
     "metadata": {
      "needs_background": "light"
     },
     "output_type": "display_data"
    }
   ],
   "source": [
    "import matplotlib.pyplot as plt\n",
    "\n",
    "n, bins, plot = plt.hist(degrees, bins = 30, range=[0,30])\n",
    "plt.title('Meta degree distribution')\n",
    "plt.xlabel('Degree')\n",
    "plt.ylabel('Frequency')\n",
    "\n",
    "plt.show()"
   ]
  },
  {
   "cell_type": "code",
   "execution_count": 164,
   "metadata": {},
   "outputs": [
    {
     "data": {
      "image/png": "[encoded data removed]",
      "text/plain": [
       "<Figure size 432x288 with 1 Axes>"
      ]
     },
     "metadata": {
      "needs_background": "light"
     },
     "output_type": "display_data"
    }
   ],
   "source": [
    "import matplotlib.pyplot as plt\n",
    "from scipy.optimize import curve_fit\n",
    "\n",
    "bins1=bins[1:]-((bins[1]-bins[0])/2)\n",
    "\n",
    "def func(x, b, c):\n",
    "    return (b*x) + c\n",
    "\n",
    "p = np.polyfit(np.log10(bins1[1:][n[1:]>0]), np.log10(n[1:][n[1:]>0]), deg=1)\n",
    "\n",
    "\n",
    "plt.scatter(np.log10(bins1[1:][n[1:]>0]), np.log10(n[1:][n[1:]>0]))\n",
    "plt.plot(np.log10(bins1[1:][n[1:]>0]), func(np.log10(bins1[1:][n[1:]>0]), *p), 'r')\n",
    "         \n",
    "         \n",
    "         \n",
    "plt.title('Metabolic loglog degree distribution')\n",
    "plt.xlabel('Degree log10')\n",
    "plt.ylabel('Frequency log10')\n",
    "\n",
    "plt.show()"
   ]
  },
  {
   "cell_type": "code",
   "execution_count": 165,
   "metadata": {},
   "outputs": [
    {
     "data": {
      "text/plain": [
       "array([1.226e+03, 1.656e+03, 1.060e+03, 4.010e+02, 2.520e+02, 1.370e+02,\n",
       "       8.400e+01, 4.600e+01, 2.700e+01, 2.600e+01, 1.100e+01, 5.000e+00,\n",
       "       5.000e+00, 3.000e+00, 1.000e+00, 1.000e+00])"
      ]
     },
     "execution_count": 165,
     "metadata": {},
     "output_type": "execute_result"
    }
   ],
   "source": [
    "n[1:][n[1:]>0]"
   ]
  },
  {
   "cell_type": "code",
   "execution_count": 166,
   "metadata": {},
   "outputs": [],
   "source": [
    "A3 = A*A*A\n",
    "\n",
    "CC = []\n",
    "\n",
    "for i in range(len(A.toarray())):\n",
    "    if degrees[i]>=2:\n",
    "        CC.append(A3[i,i]/(degrees[i]*(degrees[i]-1)))\n",
    "    else:\n",
    "        CC.append(-1)\n",
    "CC=np.array(CC)"
   ]
  },
  {
   "cell_type": "code",
   "execution_count": 167,
   "metadata": {},
   "outputs": [
    {
     "data": {
      "text/plain": [
       "0.10653888084903673"
      ]
     },
     "execution_count": 167,
     "metadata": {},
     "output_type": "execute_result"
    }
   ],
   "source": [
    "np.mean(CC[CC!=-1])"
   ]
  },
  {
   "cell_type": "code",
   "execution_count": null,
   "metadata": {},
   "outputs": [],
   "source": []
  },
  {
   "cell_type": "code",
   "execution_count": 168,
   "metadata": {},
   "outputs": [
    {
     "data": {
      "image/png": "[encoded data removed]",
      "text/plain": [
       "<Figure size 432x288 with 1 Axes>"
      ]
     },
     "metadata": {
      "needs_background": "light"
     },
     "output_type": "display_data"
    }
   ],
   "source": [
    "plt.hist(CC, bins = 20, range=[0,1])\n",
    "plt.title('Metabolic Clustering Coefficient distribution')\n",
    "plt.xlabel('Clustering Coefficient')\n",
    "plt.ylabel('Frequency')\n",
    "\n",
    "plt.show()"
   ]
  },
  {
   "cell_type": "code",
   "execution_count": 169,
   "metadata": {},
   "outputs": [],
   "source": [
    "from scipy.sparse.csgraph import shortest_path\n",
    "\n",
    "dist_matrix, predecessors = shortest_path(csgraph=A, directed=False, return_predecessors=True)\n"
   ]
  },
  {
   "cell_type": "code",
   "execution_count": 170,
   "metadata": {},
   "outputs": [
    {
     "data": {
      "text/plain": [
       "array([[ 0., 15., 18., ..., 12., 14., 13.],\n",
       "       [15.,  0.,  8., ..., 19., 23., 24.],\n",
       "       [18.,  8.,  0., ..., 22., 26., 27.],\n",
       "       ...,\n",
       "       [12., 19., 22., ...,  0., 11., 12.],\n",
       "       [14., 23., 26., ..., 11.,  0.,  1.],\n",
       "       [13., 24., 27., ..., 12.,  1.,  0.]])"
      ]
     },
     "execution_count": 170,
     "metadata": {},
     "output_type": "execute_result"
    }
   ],
   "source": [
    "dist_matrix"
   ]
  },
  {
   "cell_type": "code",
   "execution_count": 171,
   "metadata": {},
   "outputs": [],
   "source": [
    "shortest_values=[]\n",
    "for i in range(size):\n",
    "    for j in range(i, size):\n",
    "        if np.isfinite(dist_matrix[i,j]):\n",
    "            shortest_values.append(dist_matrix[i, j])"
   ]
  },
  {
   "cell_type": "code",
   "execution_count": 172,
   "metadata": {},
   "outputs": [
    {
     "data": {
      "text/plain": [
       "18.98150060638644"
      ]
     },
     "execution_count": 172,
     "metadata": {},
     "output_type": "execute_result"
    }
   ],
   "source": [
    "np.mean(shortest_values)"
   ]
  },
  {
   "cell_type": "code",
   "execution_count": 173,
   "metadata": {},
   "outputs": [
    {
     "data": {
      "image/png": "[encoded data removed]",
      "text/plain": [
       "<Figure size 432x288 with 1 Axes>"
      ]
     },
     "metadata": {
      "needs_background": "light"
     },
     "output_type": "display_data"
    }
   ],
   "source": [
    "plt.hist(shortest_values, bins = 30, range=[0,5])\n",
    "plt.title('Powergrid Shortest Paths Distribution')\n",
    "plt.xlabel('Shortest Path Distance')\n",
    "plt.ylabel('Frequency')\n",
    "plt.show()"
   ]
  },
  {
   "cell_type": "code",
   "execution_count": 174,
   "metadata": {},
   "outputs": [],
   "source": [
    "from scipy.sparse.csgraph import connected_components\n",
    "\n",
    "n_components, labels = connected_components(A, return_labels=True)"
   ]
  },
  {
   "cell_type": "code",
   "execution_count": 175,
   "metadata": {},
   "outputs": [
    {
     "data": {
      "text/plain": [
       "1"
      ]
     },
     "execution_count": 175,
     "metadata": {},
     "output_type": "execute_result"
    }
   ],
   "source": [
    "n_components"
   ]
  },
  {
   "cell_type": "code",
   "execution_count": 176,
   "metadata": {},
   "outputs": [
    {
     "data": {
      "text/plain": [
       "4941"
      ]
     },
     "execution_count": 176,
     "metadata": {},
     "output_type": "execute_result"
    }
   ],
   "source": [
    "size"
   ]
  },
  {
   "cell_type": "code",
   "execution_count": 177,
   "metadata": {},
   "outputs": [],
   "source": [
    "D = csc_matrix(np.diag(degrees), dtype=np.float)\n",
    "L=D-A\n",
    "L\n",
    "\n",
    "from scipy.sparse.linalg import eigs\n",
    "from scipy.sparse.linalg import eigsh\n",
    "\n",
    "vals, vecs = eigsh(L.asfptype(), k=4940)"
   ]
  },
  {
   "cell_type": "code",
   "execution_count": 151,
   "metadata": {},
   "outputs": [
    {
     "data": {
      "text/plain": [
       "<2018x2018 sparse matrix of type '<class 'numpy.float64'>'\n",
       "\twith 7376 stored elements in Compressed Sparse Column format>"
      ]
     },
     "execution_count": 151,
     "metadata": {},
     "output_type": "execute_result"
    }
   ],
   "source": [
    "L"
   ]
  },
  {
   "cell_type": "code",
   "execution_count": 178,
   "metadata": {},
   "outputs": [
    {
     "data": {
      "text/plain": [
       "array([7.59212211e-04, 1.08831689e-03, 1.64456371e-03, ...,\n",
       "       1.55344992e+01, 1.91204000e+01, 2.01096164e+01])"
      ]
     },
     "execution_count": 178,
     "metadata": {},
     "output_type": "execute_result"
    }
   ],
   "source": [
    "vals"
   ]
  },
  {
   "cell_type": "code",
   "execution_count": 179,
   "metadata": {},
   "outputs": [
    {
     "data": {
      "image/png": "[encoded data removed]",
      "text/plain": [
       "<Figure size 432x288 with 1 Axes>"
      ]
     },
     "metadata": {
      "needs_background": "light"
     },
     "output_type": "display_data"
    }
   ],
   "source": [
    "plt.hist(vals, bins=18, range=[0,30])\n",
    "plt.title('Powergrid Eigenvalue distribution')\n",
    "plt.xlabel('Eigenvalue')\n",
    "plt.ylabel('Frequency')\n",
    "plt.savefig('powergrid_eigs')"
   ]
  },
  {
   "cell_type": "code",
   "execution_count": 207,
   "metadata": {},
   "outputs": [],
   "source": [
    "#f\n",
    "\n",
    "x=[]\n",
    "y=[]\n",
    "\n",
    "\n",
    "for i in range(size):\n",
    "    for j in range(i,size):\n",
    "        if A[i,j]==1:\n",
    "            x.append(degrees[i])\n",
    "            y.append(degrees[j])"
   ]
  },
  {
   "cell_type": "code",
   "execution_count": 208,
   "metadata": {},
   "outputs": [
    {
     "data": {
      "image/png": "[encoded data removed]",
      "text/plain": [
       "<Figure size 432x288 with 1 Axes>"
      ]
     },
     "metadata": {
      "needs_background": "light"
     },
     "output_type": "display_data"
    }
   ],
   "source": [
    "from collections import Counter\n",
    "\n",
    "\n",
    "c = Counter(zip(x,y))\n",
    "\n",
    "s = [2*c[(xx,yy)] for xx,yy in zip(x,y)]\n",
    "\n",
    "# plot it\n",
    "plt.scatter(x, y, s=s)\n",
    "plt.title('Metabolic degree correlations of connected nodes')\n",
    "plt.xlabel('Node i')\n",
    "plt.ylabel('Node j')\n",
    "plt.show()"
   ]
  },
  {
   "cell_type": "code",
   "execution_count": 209,
   "metadata": {},
   "outputs": [
    {
     "data": {
      "text/plain": [
       "(-0.08305605398629992, 1.5239963743529103e-05)"
      ]
     },
     "execution_count": 209,
     "metadata": {},
     "output_type": "execute_result"
    }
   ],
   "source": [
    "from scipy import stats\n",
    "\n",
    "stats.pearsonr(x, y)"
   ]
  },
  {
   "cell_type": "code",
   "execution_count": 210,
   "metadata": {},
   "outputs": [
    {
     "data": {
      "text/plain": [
       "Text(0, 0.5, 'Clustering coefficient of Node i')"
      ]
     },
     "execution_count": 210,
     "metadata": {},
     "output_type": "execute_result"
    },
    {
     "data": {
      "image/png": "[encoded data removed]",
      "text/plain": [
       "<Figure size 432x288 with 1 Axes>"
      ]
     },
     "metadata": {
      "needs_background": "light"
     },
     "output_type": "display_data"
    }
   ],
   "source": [
    "#e\n",
    "deg = np.array(degrees)\n",
    "x = deg[CC!=-1]\n",
    "y = CC[CC!=-1]\n",
    "\n",
    "c = Counter(zip(x,y))\n",
    "\n",
    "s = [c[(xx,yy)] for xx,yy in zip(x,y)]\n",
    "\n",
    "plt.scatter(x, y, s=s)\n",
    "plt.title('Metabolic degree-clustering coefficient relation')\n",
    "plt.xlabel('Degree of Node i')\n",
    "plt.ylabel('Clustering coefficient of Node i')\n"
   ]
  },
  {
   "cell_type": "code",
   "execution_count": null,
   "metadata": {},
   "outputs": [],
   "source": []
  },
  {
   "cell_type": "code",
   "execution_count": 217,
   "metadata": {},
   "outputs": [],
   "source": [
    "size=1039"
   ]
  },
  {
   "cell_type": "code",
   "execution_count": 218,
   "metadata": {},
   "outputs": [
    {
     "name": "stdout",
     "output_type": "stream",
     "text": [
      "10.0\n"
     ]
    }
   ],
   "source": [
    "#AB MODEL\n",
    "\n",
    "edges_to_add = 1\n",
    "\n",
    "AB = lil_matrix((size, size), dtype=np.int32)\n",
    "rng = np.random.default_rng()\n",
    "\n",
    "degrees_AB=np.zeros(size)\n",
    "probs_AB=np.zeros(size)\n",
    "\n",
    "probs_AB[0]=1\n",
    "\n",
    "\n",
    "\n",
    "\n",
    "\n",
    "for i in range(1, size):\n",
    "    if i%1000 == 0:\n",
    "        print(i/100)\n",
    "    new_edges = rng.choice(i, edges_to_add, p=probs_AB[0:i], replace=False)\n",
    "    AB[i, new_edges[0]]=1\n",
    "\n",
    " \n",
    "    AB[new_edges[0], i]=1\n",
    "\n",
    "    \n",
    "    degrees_AB[new_edges[0]]+=1\n",
    "\n",
    "    \n",
    "    degrees_AB[i]=+edges_to_add\n",
    "    \n",
    "    tot_degrees = sum(degrees_AB)\n",
    "    \n",
    "    for j in range(0,i+1):\n",
    "        probs_AB[j] = degrees_AB[j]/tot_degrees"
   ]
  },
  {
   "cell_type": "code",
   "execution_count": 219,
   "metadata": {},
   "outputs": [
    {
     "data": {
      "text/plain": [
       "2.66909532483303"
      ]
     },
     "execution_count": 219,
     "metadata": {},
     "output_type": "execute_result"
    }
   ],
   "source": [
    "np.mean(degrees)"
   ]
  },
  {
   "cell_type": "code",
   "execution_count": 220,
   "metadata": {},
   "outputs": [
    {
     "data": {
      "text/plain": [
       "1.998075072184793"
      ]
     },
     "execution_count": 220,
     "metadata": {},
     "output_type": "execute_result"
    }
   ],
   "source": [
    "np.mean(degrees_AB)"
   ]
  },
  {
   "cell_type": "code",
   "execution_count": 221,
   "metadata": {},
   "outputs": [
    {
     "data": {
      "text/plain": [
       "True"
      ]
     },
     "execution_count": 221,
     "metadata": {},
     "output_type": "execute_result"
    }
   ],
   "source": [
    "(AB.toarray().transpose() == AB.toarray()).all()"
   ]
  },
  {
   "cell_type": "code",
   "execution_count": 222,
   "metadata": {},
   "outputs": [
    {
     "data": {
      "image/png": "[encoded data removed]",
      "text/plain": [
       "<Figure size 432x288 with 1 Axes>"
      ]
     },
     "metadata": {
      "needs_background": "light"
     },
     "output_type": "display_data"
    }
   ],
   "source": [
    "import matplotlib.pyplot as plt\n",
    "\n",
    "n, bins, plot = plt.hist(degrees_AB, bins = 20, range=[0,20], cumulative=True)\n",
    "plt.title('Synthetic metabolic degree distribution')\n",
    "plt.xlabel('Degree')\n",
    "plt.ylabel('Frequency')\n",
    "plt.show()\n",
    "        \n",
    "    "
   ]
  },
  {
   "cell_type": "code",
   "execution_count": 223,
   "metadata": {},
   "outputs": [
    {
     "data": {
      "image/png": "[encoded data removed]",
      "text/plain": [
       "<Figure size 432x288 with 1 Axes>"
      ]
     },
     "metadata": {
      "needs_background": "light"
     },
     "output_type": "display_data"
    }
   ],
   "source": [
    "import matplotlib.pyplot as plt\n",
    "from scipy.optimize import curve_fit\n",
    "\n",
    "bins1=bins[1:]-((bins[1]-bins[0])/2)\n",
    "\n",
    "def func(x, a, b, c):\n",
    "    return a*(x**2) + (b*x) + c\n",
    "\n",
    "p = np.polyfit(np.log10(bins1[n>0]), np.log10(n[n>0]), deg=2)\n",
    "\n",
    "\n",
    "plt.scatter(np.log10(bins1[n>0]), np.log10(n[n>0]))\n",
    "plt.plot(np.log10(bins1[n>0]), func(np.log10(bins1[n>0]), *p), 'r')\n",
    "         \n",
    "         \n",
    "         \n",
    "plt.title('Synthetic metabolic cum loglog degree distribution')\n",
    "plt.xlabel('Degree log10')\n",
    "plt.ylabel('Frequency log10')\n",
    "\n",
    "plt.savefig('syn_meta_logdd_cum')\n",
    "plt.show()"
   ]
  },
  {
   "cell_type": "code",
   "execution_count": 224,
   "metadata": {},
   "outputs": [],
   "source": [
    "AB3 = AB*AB*AB\n",
    "\n",
    "CC = []\n",
    "\n",
    "for i in range(len(AB.toarray())):\n",
    "    if degrees_AB[i]>=2:\n",
    "        CC.append(AB3[i,i]/(degrees_AB[i]*(degrees_AB[i]-1)))\n",
    "    else:\n",
    "        CC.append(-1)\n",
    "CC=np.array(CC)"
   ]
  },
  {
   "cell_type": "code",
   "execution_count": 225,
   "metadata": {},
   "outputs": [
    {
     "data": {
      "image/png": "[encoded data removed]",
      "text/plain": [
       "<Figure size 432x288 with 1 Axes>"
      ]
     },
     "metadata": {
      "needs_background": "light"
     },
     "output_type": "display_data"
    }
   ],
   "source": [
    "plt.hist(CC, bins = 20, range=[0,1])\n",
    "plt.title('Synthetic metabolic Clustering Coefficient distribution')\n",
    "plt.xlabel('Clustering Coefficient')\n",
    "plt.ylabel('Frequency')\n",
    "\n",
    "plt.show()"
   ]
  },
  {
   "cell_type": "code",
   "execution_count": 226,
   "metadata": {},
   "outputs": [],
   "source": [
    "from scipy.sparse.csgraph import shortest_path\n",
    "AB=csc_matrix(AB)\n",
    "dist_matrix, predecessors = shortest_path(csgraph=AB, directed=False, return_predecessors=True)"
   ]
  },
  {
   "cell_type": "code",
   "execution_count": 227,
   "metadata": {},
   "outputs": [],
   "source": [
    "shortest_values=[]\n",
    "for i in range(size):\n",
    "    for j in range(i, size):\n",
    "        if np.isfinite(dist_matrix[i,j]):\n",
    "            shortest_values.append(dist_matrix[i, j])"
   ]
  },
  {
   "cell_type": "code",
   "execution_count": 228,
   "metadata": {},
   "outputs": [
    {
     "data": {
      "text/plain": [
       "6.6592766713555935"
      ]
     },
     "execution_count": 228,
     "metadata": {},
     "output_type": "execute_result"
    }
   ],
   "source": [
    "np.mean(shortest_values)"
   ]
  },
  {
   "cell_type": "code",
   "execution_count": 229,
   "metadata": {},
   "outputs": [
    {
     "data": {
      "image/png": "[encoded data removed]",
      "text/plain": [
       "<Figure size 432x288 with 1 Axes>"
      ]
     },
     "metadata": {
      "needs_background": "light"
     },
     "output_type": "display_data"
    }
   ],
   "source": [
    "plt.hist(shortest_values, bins = 6, range=[0,6])\n",
    "plt.title('Synthetic metabolic Shortest Paths Distribution')\n",
    "plt.xlabel('Shortest Path Distance')\n",
    "plt.ylabel('Frequency')\n",
    "\n",
    "plt.show()"
   ]
  },
  {
   "cell_type": "code",
   "execution_count": 230,
   "metadata": {},
   "outputs": [],
   "source": [
    "from scipy.sparse.csgraph import connected_components\n",
    "\n",
    "n_components, labels = connected_components(AB, return_labels=True)"
   ]
  },
  {
   "cell_type": "code",
   "execution_count": 231,
   "metadata": {},
   "outputs": [
    {
     "data": {
      "text/plain": [
       "1039"
      ]
     },
     "execution_count": 231,
     "metadata": {},
     "output_type": "execute_result"
    }
   ],
   "source": [
    "len(AB.toarray())"
   ]
  },
  {
   "cell_type": "code",
   "execution_count": 232,
   "metadata": {},
   "outputs": [],
   "source": [
    "D = csc_matrix(np.diag(degrees_AB))\n",
    "L=D-AB\n",
    "L\n",
    "\n",
    "from scipy.sparse.linalg import eigs\n",
    "from scipy.sparse.linalg import eigsh\n",
    "\n",
    "vals, vecs = eigsh(L.asfptype(), k=1038)\n"
   ]
  },
  {
   "cell_type": "code",
   "execution_count": 233,
   "metadata": {},
   "outputs": [
    {
     "data": {
      "text/plain": [
       "array([2.26018047e-03, 4.44800662e-03, 5.57565939e-03, ...,\n",
       "       3.65236957e+01, 3.86341986e+01, 7.10441591e+01])"
      ]
     },
     "execution_count": 233,
     "metadata": {},
     "output_type": "execute_result"
    }
   ],
   "source": [
    "vals"
   ]
  },
  {
   "cell_type": "code",
   "execution_count": null,
   "metadata": {},
   "outputs": [],
   "source": []
  },
  {
   "cell_type": "code",
   "execution_count": 236,
   "metadata": {},
   "outputs": [
    {
     "data": {
      "image/png": "[encoded data removed]",
      "text/plain": [
       "<Figure size 432x288 with 1 Axes>"
      ]
     },
     "metadata": {
      "needs_background": "light"
     },
     "output_type": "display_data"
    }
   ],
   "source": [
    "plt.hist(vals, bins=10, range=[0,20])\n",
    "plt.title('Synthetic powergrid Eigenvalue distribution')\n",
    "plt.xlabel('Eigenvalue')\n",
    "plt.ylabel('Frequency')\n",
    "plt.savefig('syn_powergrid_eigs')"
   ]
  },
  {
   "cell_type": "code",
   "execution_count": 237,
   "metadata": {},
   "outputs": [],
   "source": [
    "#f\n",
    "\n",
    "x=[]\n",
    "y=[]\n",
    "\n",
    "for i in range(size):\n",
    "    for j in range(i,size):\n",
    "        if AB[i,j]==1:\n",
    "            x.append(degrees_AB[i])\n",
    "            y.append(degrees_AB[j])"
   ]
  },
  {
   "cell_type": "code",
   "execution_count": 238,
   "metadata": {},
   "outputs": [
    {
     "data": {
      "image/png": "[encoded data removed]",
      "text/plain": [
       "<Figure size 432x288 with 1 Axes>"
      ]
     },
     "metadata": {
      "needs_background": "light"
     },
     "output_type": "display_data"
    }
   ],
   "source": [
    "from collections import Counter\n",
    "\n",
    "\n",
    "c = Counter(zip(x,y))\n",
    "\n",
    "s = [2*c[(xx,yy)] for xx,yy in zip(x,y)]\n",
    "\n",
    "# plot it\n",
    "plt.scatter(x, y, s=s)\n",
    "plt.title('Synthetic protein degree correlations of connected nodes')\n",
    "plt.xlabel('Node i')\n",
    "plt.ylabel('Node j')\n",
    "plt.savefig('syn_pro_degcorr')\n",
    "plt.show()"
   ]
  },
  {
   "cell_type": "code",
   "execution_count": 239,
   "metadata": {},
   "outputs": [
    {
     "data": {
      "text/plain": [
       "(0.21407379598765808, 2.448320161976748e-22)"
      ]
     },
     "execution_count": 239,
     "metadata": {},
     "output_type": "execute_result"
    }
   ],
   "source": [
    "from scipy import stats\n",
    "\n",
    "stats.pearsonr(x, y)"
   ]
  },
  {
   "cell_type": "code",
   "execution_count": 240,
   "metadata": {},
   "outputs": [
    {
     "data": {
      "image/png": "[encoded data removed]",
      "text/plain": [
       "<Figure size 432x288 with 1 Axes>"
      ]
     },
     "metadata": {
      "needs_background": "light"
     },
     "output_type": "display_data"
    }
   ],
   "source": [
    "#e\n",
    "deg = np.array(degrees_AB)\n",
    "x = deg[CC!=-1]\n",
    "y = CC[CC!=-1]\n",
    "\n",
    "c = Counter(zip(x,y))\n",
    "\n",
    "s = [c[(xx,yy)] for xx,yy in zip(x,y)]\n",
    "\n",
    "plt.scatter(x, y, s=s)\n",
    "plt.title('Synthetic protein degree-clustering coefficient relation')\n",
    "plt.xlabel('Degree of Node i')\n",
    "plt.ylabel('Clustering coefficient of Node i')\n",
    "plt.savefig('syn_pro_degCCcorr')"
   ]
  },
  {
   "cell_type": "code",
   "execution_count": 44,
   "metadata": {},
   "outputs": [
    {
     "data": {
      "text/plain": [
       "array([0, 0, 0, ..., 1, 1, 1], dtype=int8)"
      ]
     },
     "execution_count": 44,
     "metadata": {},
     "output_type": "execute_result"
    }
   ],
   "source": [
    "np.sort(A.toarray().flatten())"
   ]
  },
  {
   "cell_type": "code",
   "execution_count": 45,
   "metadata": {},
   "outputs": [
    {
     "data": {
      "text/plain": [
       "array([-128, -128, -128, ...,  127,  127,  127], dtype=int8)"
      ]
     },
     "execution_count": 45,
     "metadata": {},
     "output_type": "execute_result"
    }
   ],
   "source": [
    "A3 = A*A*A\n",
    "np.sort(A3.toarray().flatten())"
   ]
  },
  {
   "cell_type": "code",
   "execution_count": 37,
   "metadata": {},
   "outputs": [
    {
     "name": "stdout",
     "output_type": "stream",
     "text": [
      "218\n",
      "240\n",
      "266\n",
      "312\n",
      "364\n",
      "387\n",
      "486\n",
      "515\n",
      "516\n",
      "550\n",
      "555\n",
      "562\n",
      "565\n",
      "586\n",
      "589\n",
      "592\n",
      "736\n",
      "738\n",
      "751\n",
      "861\n",
      "910\n"
     ]
    }
   ],
   "source": [
    "for i,j in zip(A3.toarray().diagonal(), range(len(A2.toarray().diagonal()))):\n",
    "    if i<0:\n",
    "        print(j)"
   ]
  },
  {
   "cell_type": "code",
   "execution_count": 40,
   "metadata": {},
   "outputs": [
    {
     "data": {
      "text/plain": [
       "array([[0, 0, 0, ..., 1, 1, 1]], dtype=int8)"
      ]
     },
     "execution_count": 40,
     "metadata": {},
     "output_type": "execute_result"
    }
   ],
   "source": [
    "np.sort(A[218].toarray())"
   ]
  },
  {
   "cell_type": "code",
   "execution_count": 27,
   "metadata": {},
   "outputs": [
    {
     "data": {
      "text/plain": [
       "3"
      ]
     },
     "execution_count": 27,
     "metadata": {},
     "output_type": "execute_result"
    }
   ],
   "source": []
  },
  {
   "cell_type": "code",
   "execution_count": null,
   "metadata": {},
   "outputs": [],
   "source": [
    "A.toarray()[249]"
   ]
  },
  {
   "cell_type": "code",
   "execution_count": 11,
   "metadata": {},
   "outputs": [
    {
     "data": {
      "text/plain": [
       "array([0, 0, 0, ..., 1, 1, 1], dtype=int8)"
      ]
     },
     "execution_count": 11,
     "metadata": {},
     "output_type": "execute_result"
    }
   ],
   "source": [
    "np.sort(A.toarray()[249])"
   ]
  },
  {
   "cell_type": "code",
   "execution_count": null,
   "metadata": {},
   "outputs": [],
   "source": []
  }
 ],
 "metadata": {
  "kernelspec": {
   "display_name": "Python 3",
   "language": "python",
   "name": "python3"
  },
  "language_info": {
   "codemirror_mode": {
    "name": "ipython",
    "version": 3
   },
   "file_extension": ".py",
   "mimetype": "text/x-python",
   "name": "python",
   "nbconvert_exporter": "python",
   "pygments_lexer": "ipython3",
   "version": "3.7.6"
  }
 },
 "nbformat": 4,
 "nbformat_minor": 4
}
